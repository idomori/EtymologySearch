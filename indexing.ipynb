{
 "cells": [
  {
   "cell_type": "code",
   "execution_count": 3,
   "id": "e58e7df9",
   "metadata": {},
   "outputs": [],
   "source": [
    "from whoosh import index\n",
    "from whoosh.fields import Schema, ID, TEXT, KEYWORD\n",
    "import os\n",
    "import json\n",
    "from tqdm import tqdm\n",
    "\n",
    "# Step 1: Define schema\n",
    "schema = Schema(\n",
    "    word=ID(stored=True),\n",
    "    lang=ID(stored=True),\n",
    "    pos=ID(stored=True),\n",
    "    etymology_text=TEXT(stored=True),\n",
    "    etymology_langs=KEYWORD(stored=True, commas=True, lowercase=True),\n",
    "    glosses=TEXT(stored=True)\n",
    ")\n",
    "\n",
    "# Step 2: Create index directory\n",
    "index_dir = \"indexdir\"\n",
    "if not os.path.exists(index_dir):\n",
    "    os.mkdir(index_dir)\n",
    "    ix = index.create_in(index_dir, schema)\n",
    "else:\n",
    "    ix = index.open_dir(index_dir)"
   ]
  },
  {
   "cell_type": "code",
   "execution_count": 5,
   "id": "c5714adc",
   "metadata": {},
   "outputs": [],
   "source": [
    "# Step 3: Path to Kaikki JSONL file\n",
    "jsonl_path = \"kaikki.org-dictionary-English.jsonl\"\n",
    "\n",
    "# Step 4: Count lines (optional for tqdm progress bar)\n",
    "with open(jsonl_path, \"r\", encoding=\"utf-8\") as f:\n",
    "    total_lines = sum(1 for _ in f)"
   ]
  },
  {
   "cell_type": "code",
   "execution_count": null,
   "id": "7addf707",
   "metadata": {},
   "outputs": [
    {
     "name": "stderr",
     "output_type": "stream",
     "text": [
      "Indexing: 100%|██████████| 1383078/1383078 [07:40<00:00, 3003.49it/s] \n"
     ]
    }
   ],
   "source": [
    "# Step 5: Index documents\n",
    "with ix.writer() as writer:\n",
    "    with open(jsonl_path, \"r\", encoding=\"utf-8\") as f:\n",
    "        for line in tqdm(f, total=total_lines, desc=\"Indexing\"):\n",
    "            try:\n",
    "                entry = json.loads(line)\n",
    "                if entry.get(\"lang\") != \"English\":\n",
    "                    continue\n",
    "\n",
    "                word = entry.get(\"word\", \"\")\n",
    "                pos = entry.get(\"pos\", \"\")\n",
    "                etymology_text = entry.get(\"etymology_text\", \"\")\n",
    "\n",
    "                # Extract origin languages from etymology_templates\n",
    "                ety_langs = set()\n",
    "                for tpl in entry.get(\"etymology_templates\", []):\n",
    "                    lang = tpl.get(\"lang\")\n",
    "                    if lang:\n",
    "                        ety_langs.add(lang.lower())\n",
    "\n",
    "                # Extract glosses for context (optional)\n",
    "                gloss_list = []\n",
    "                for sense in entry.get(\"senses\", []):\n",
    "                    gloss_list.extend(sense.get(\"glosses\", []))\n",
    "                glosses = \"; \".join(gloss_list)\n",
    "\n",
    "                # Add document to index\n",
    "                writer.add_document(\n",
    "                    word=word,\n",
    "                    lang=\"English\",\n",
    "                    pos=pos,\n",
    "                    etymology_text=etymology_text,\n",
    "                    etymology_langs=\",\".join(ety_langs),\n",
    "                    glosses=glosses\n",
    "                )\n",
    "            except Exception as e:\n",
    "                print(\"Skipping entry due to error:\", e)"
   ]
  },
  {
   "cell_type": "code",
   "execution_count": null,
   "id": "9b3603dc",
   "metadata": {},
   "outputs": [],
   "source": [
    "from whoosh.qparser import QueryParser\n",
    "ix = index.open_dir(\"indexdir\")\n",
    "\n",
    "with ix.searcher() as searcher:\n",
    "    query = QueryParser(\"etymology_text\", ix.schema).parse(\"from Latin\")\n",
    "    results = searcher.search(query, limit=10)\n",
    "    for r in results:\n",
    "        print(f\"{r['word']} ({r['pos']}): {r['etymology_text'][:100]}...\")"
   ]
  },
  {
   "cell_type": "code",
   "execution_count": null,
   "id": "a44dd8ab",
   "metadata": {},
   "outputs": [],
   "source": []
  },
  {
   "cell_type": "code",
   "execution_count": null,
   "id": "3714844a",
   "metadata": {},
   "outputs": [],
   "source": []
  },
  {
   "cell_type": "code",
   "execution_count": null,
   "id": "9eb09072",
   "metadata": {},
   "outputs": [],
   "source": []
  },
  {
   "cell_type": "code",
   "execution_count": null,
   "id": "6df6bd39",
   "metadata": {},
   "outputs": [],
   "source": []
  },
  {
   "cell_type": "code",
   "execution_count": null,
   "id": "bcc17ee6",
   "metadata": {},
   "outputs": [],
   "source": []
  }
 ],
 "metadata": {
  "kernelspec": {
   "display_name": "ir_env",
   "language": "python",
   "name": "python3"
  },
  "language_info": {
   "codemirror_mode": {
    "name": "ipython",
    "version": 3
   },
   "file_extension": ".py",
   "mimetype": "text/x-python",
   "name": "python",
   "nbconvert_exporter": "python",
   "pygments_lexer": "ipython3",
   "version": "3.12.3"
  }
 },
 "nbformat": 4,
 "nbformat_minor": 5
}
