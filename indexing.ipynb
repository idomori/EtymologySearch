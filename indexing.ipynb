{
 "cells": [
  {
   "cell_type": "code",
   "execution_count": null,
   "id": "e58e7df9",
   "metadata": {},
   "outputs": [],
   "source": [
    "from whoosh.fields import Schema, TEXT, ID, KEYWORD\n",
    "from whoosh import index\n",
    "import os\n",
    "\n",
    "schema = Schema(\n",
    "    word=ID(stored=True),\n",
    "    lang=ID(stored=True),\n",
    "    pos=ID(stored=True),\n",
    "    etymology_text=TEXT(stored=True),\n",
    "    glosses=TEXT(stored=True),     # Flattened glosses\n",
    "    tags=KEYWORD(stored=True, commas=True)\n",
    ")\n",
    "\n",
    "# Create indexdir if not exists\n",
    "if not os.path.exists(\"indexdir\"):\n",
    "    os.mkdir(\"indexdir\")\n",
    "    ix = index.create_in(\"indexdir\", schema)\n",
    "else:\n",
    "    ix = index.open_dir(\"indexdir\")\n",
    "\n"
   ]
  },
  {
   "cell_type": "code",
   "execution_count": 4,
   "id": "9b3603dc",
   "metadata": {},
   "outputs": [],
   "source": [
    "import json\n",
    "from whoosh.writing import AsyncWriter\n",
    "\n",
    "# Path to your .jsonl file\n",
    "jsonl_path = \"kaikki.org-dictionary-English-words.jsonl\"\n",
    "\n",
    "\n",
    "with ix.writer() as writer:\n",
    "    with open(jsonl_path, \"r\", encoding=\"utf-8\") as f:\n",
    "        for i, line in enumerate(f):\n",
    "            entry = json.loads(line)\n",
    "            if entry.get(\"lang\") != \"English\":\n",
    "                continue\n",
    "            word = entry.get(\"word\", \"\")\n",
    "            pos = entry.get(\"pos\", \"\")\n",
    "            etymology = entry.get(\"etymology_text\", \"\")\n",
    "            glosses = []\n",
    "            tags = set()\n",
    "            for sense in entry.get(\"senses\", []):\n",
    "                glosses.extend(sense.get(\"glosses\", []))\n",
    "                tags.update(sense.get(\"tags\", []))\n",
    "            writer.add_document(\n",
    "                word=word,\n",
    "                lang=\"English\",\n",
    "                pos=pos,\n",
    "                etymology_text=etymology,\n",
    "                glosses=\"; \".join(glosses),\n",
    "                tags=\",\".join(tags)\n",
    "            )\n"
   ]
  },
  {
   "cell_type": "code",
   "execution_count": null,
   "id": "a44dd8ab",
   "metadata": {},
   "outputs": [],
   "source": []
  },
  {
   "cell_type": "code",
   "execution_count": null,
   "id": "3714844a",
   "metadata": {},
   "outputs": [],
   "source": []
  },
  {
   "cell_type": "code",
   "execution_count": null,
   "id": "9eb09072",
   "metadata": {},
   "outputs": [],
   "source": []
  },
  {
   "cell_type": "code",
   "execution_count": null,
   "id": "6df6bd39",
   "metadata": {},
   "outputs": [],
   "source": []
  },
  {
   "cell_type": "code",
   "execution_count": null,
   "id": "bcc17ee6",
   "metadata": {},
   "outputs": [],
   "source": []
  }
 ],
 "metadata": {
  "kernelspec": {
   "display_name": "ir_env",
   "language": "python",
   "name": "python3"
  },
  "language_info": {
   "codemirror_mode": {
    "name": "ipython",
    "version": 3
   },
   "file_extension": ".py",
   "mimetype": "text/x-python",
   "name": "python",
   "nbconvert_exporter": "python",
   "pygments_lexer": "ipython3",
   "version": "3.12.3"
  }
 },
 "nbformat": 4,
 "nbformat_minor": 5
}
