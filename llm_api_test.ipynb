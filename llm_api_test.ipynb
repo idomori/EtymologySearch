{
 "cells": [
  {
   "cell_type": "code",
   "execution_count": 5,
   "id": "3e5c69c8",
   "metadata": {},
   "outputs": [
    {
     "name": "stdout",
     "output_type": "stream",
     "text": [
      "Collecting cerebras_cloud_sdk\n",
      "  Downloading cerebras_cloud_sdk-1.29.0-py3-none-any.whl.metadata (18 kB)\n",
      "Requirement already satisfied: anyio<5,>=3.5.0 in c:\\users\\ziyad\\appdata\\local\\packages\\pythonsoftwarefoundation.python.3.10_qbz5n2kfra8p0\\localcache\\local-packages\\python310\\site-packages (from cerebras_cloud_sdk) (3.6.2)\n",
      "Requirement already satisfied: distro<2,>=1.7.0 in c:\\users\\ziyad\\appdata\\local\\packages\\pythonsoftwarefoundation.python.3.10_qbz5n2kfra8p0\\localcache\\local-packages\\python310\\site-packages (from cerebras_cloud_sdk) (1.9.0)\n",
      "Requirement already satisfied: httpx<1,>=0.23.0 in c:\\users\\ziyad\\appdata\\local\\packages\\pythonsoftwarefoundation.python.3.10_qbz5n2kfra8p0\\localcache\\local-packages\\python310\\site-packages (from cerebras_cloud_sdk) (0.27.0)\n",
      "Requirement already satisfied: pydantic<3,>=1.9.0 in c:\\users\\ziyad\\appdata\\local\\packages\\pythonsoftwarefoundation.python.3.10_qbz5n2kfra8p0\\localcache\\local-packages\\python310\\site-packages (from cerebras_cloud_sdk) (2.7.1)\n",
      "Requirement already satisfied: sniffio in c:\\users\\ziyad\\appdata\\local\\packages\\pythonsoftwarefoundation.python.3.10_qbz5n2kfra8p0\\localcache\\local-packages\\python310\\site-packages (from cerebras_cloud_sdk) (1.3.0)\n",
      "Collecting typing-extensions<5,>=4.10 (from cerebras_cloud_sdk)\n",
      "  Downloading typing_extensions-4.13.2-py3-none-any.whl.metadata (3.0 kB)\n",
      "Requirement already satisfied: idna>=2.8 in c:\\users\\ziyad\\appdata\\local\\packages\\pythonsoftwarefoundation.python.3.10_qbz5n2kfra8p0\\localcache\\local-packages\\python310\\site-packages (from anyio<5,>=3.5.0->cerebras_cloud_sdk) (3.4)\n",
      "Requirement already satisfied: certifi in c:\\users\\ziyad\\appdata\\local\\packages\\pythonsoftwarefoundation.python.3.10_qbz5n2kfra8p0\\localcache\\local-packages\\python310\\site-packages (from httpx<1,>=0.23.0->cerebras_cloud_sdk) (2022.9.24)\n",
      "Requirement already satisfied: httpcore==1.* in c:\\users\\ziyad\\appdata\\local\\packages\\pythonsoftwarefoundation.python.3.10_qbz5n2kfra8p0\\localcache\\local-packages\\python310\\site-packages (from httpx<1,>=0.23.0->cerebras_cloud_sdk) (1.0.5)\n",
      "Requirement already satisfied: h11<0.15,>=0.13 in c:\\users\\ziyad\\appdata\\local\\packages\\pythonsoftwarefoundation.python.3.10_qbz5n2kfra8p0\\localcache\\local-packages\\python310\\site-packages (from httpcore==1.*->httpx<1,>=0.23.0->cerebras_cloud_sdk) (0.14.0)\n",
      "Requirement already satisfied: annotated-types>=0.4.0 in c:\\users\\ziyad\\appdata\\local\\packages\\pythonsoftwarefoundation.python.3.10_qbz5n2kfra8p0\\localcache\\local-packages\\python310\\site-packages (from pydantic<3,>=1.9.0->cerebras_cloud_sdk) (0.6.0)\n",
      "Requirement already satisfied: pydantic-core==2.18.2 in c:\\users\\ziyad\\appdata\\local\\packages\\pythonsoftwarefoundation.python.3.10_qbz5n2kfra8p0\\localcache\\local-packages\\python310\\site-packages (from pydantic<3,>=1.9.0->cerebras_cloud_sdk) (2.18.2)\n",
      "Downloading cerebras_cloud_sdk-1.29.0-py3-none-any.whl (88 kB)\n",
      "Downloading typing_extensions-4.13.2-py3-none-any.whl (45 kB)\n",
      "Installing collected packages: typing-extensions, cerebras_cloud_sdk\n",
      "  Attempting uninstall: typing-extensions\n",
      "    Found existing installation: typing_extensions 4.9.0\n",
      "    Uninstalling typing_extensions-4.9.0:\n",
      "      Successfully uninstalled typing_extensions-4.9.0\n",
      "Successfully installed cerebras_cloud_sdk-1.29.0 typing-extensions-4.13.2\n"
     ]
    },
    {
     "name": "stderr",
     "output_type": "stream",
     "text": [
      "ERROR: pip's dependency resolver does not currently take into account all the packages that are installed. This behaviour is the source of the following dependency conflicts.\n",
      "onnx 1.12.0 requires protobuf<=3.20.1,>=3.12.2, but you have protobuf 3.20.3 which is incompatible.\n",
      "tensorflow-intel 2.12.0 requires numpy<1.24,>=1.22, but you have numpy 1.24.4 which is incompatible.\n",
      "torchvision 0.20.1 requires torch==2.5.1, but you have torch 2.1.2 which is incompatible.\n",
      "\n",
      "[notice] A new release of pip is available: 24.3.1 -> 25.1.1\n",
      "[notice] To update, run: C:\\Users\\ziyad\\AppData\\Local\\Microsoft\\WindowsApps\\PythonSoftwareFoundation.Python.3.10_qbz5n2kfra8p0\\python.exe -m pip install --upgrade pip\n"
     ]
    }
   ],
   "source": [
    "!pip install --upgrade cerebras_cloud_sdk"
   ]
  },
  {
   "cell_type": "code",
   "execution_count": null,
   "id": "13df308e",
   "metadata": {},
   "outputs": [
    {
     "name": "stdout",
     "output_type": "stream",
     "text": [
      "Here's the extracted etymology chain in graph format:\n",
      "\n",
      "```\n",
      "{\n",
      "  \"nodes\": [\n",
      "    { \"id\": \"Proto-Indo-European:*wr̥dʰh₁om\",  \"label\": \"Proto-Indo-European: *wr̥dʰh₁om\" },\n",
      "    { \"id\": \"Proto-Germanic:*wurdą\",        \"label\": \"Proto-Germanic: *wurdą\" },\n",
      "    { \"id\": \"Proto-West Germanic:*word\",   \"label\": \"Proto-West Germanic: *word\" },\n",
      "    { \"id\": \"Old English:word\",            \"label\": \"Old English: word\" },\n",
      "    { \"id\": \"Middle English:word\",         \"label\": \"Middle English: word\" },\n",
      "    { \"id\": \"English:word\",                \"label\": \"English: word\" },\n",
      "    { \"id\": \"verb\",                        \"label\": \"verb\" },\n",
      "    { \"id\": \"verve\",                       \"label\": \"verve\" },\n",
      "    { \"id\": \"vrata\",                       \"label\": \"vrata\" }\n",
      "  ],\n",
      "\n",
      "  \"edges\": [\n",
      "    { \"from\": \"Proto-Indo-European:*wr̥dʰh₁om\", \"to\": \"Proto-Germanic:*wurdą\",        \"label\": \"inh\" },\n",
      "    { \"from\": \"Proto-Germanic:*wurdą\",       \"to\": \"Proto-West Germanic:*word\",   \"label\": \"inh\" },\n",
      "    { \"from\": \"Proto-West Germanic:*word\",  \"to\": \"Old English:word\",            \"label\": \"inh\" },\n",
      "    { \"from\": \"Old English:word\",           \"to\": \"Middle English:word\",         \"label\": \"inh\" },\n",
      "    { \"from\": \"Middle English:word\",        \"to\": \"English:word\",               \"label\": \"inh\" },\n",
      "    { \"from\": \"English:word\",               \"to\": \"verb\",                       \"label\": \"dbt\" },\n",
      "    { \"from\": \"English:word\",               \"to\": \"verve\",                      \"label\": \"dbt\" },\n",
      "    { \"from\": \"Proto-Indo-European:*wr̥dʰh₁om\", \"to\": \"vrata\",                    \"label\": \"cog\" }\n",
      "  ]\n",
      "}\n",
      "```\n",
      "\n",
      "Note: The relationship between \"English:word\" and \"verb\" or \"verve\" is marked as \"dbt\" (doublet), as per the etymology text. The relationship between \"Proto-Indo-European:*wr̥dʰh₁om\" and \"vrata\" is marked as \"cog\" (cognate), although it could also be argued to be \"inh\" (inherited) if \"vrata\" is considered a descendant of the Proto-Indo-European root. However, without further information, \"cog\" seems a reasonable choice.\n"
     ]
    }
   ],
   "source": [
    "import os\n",
    "from cerebras.cloud.sdk import Cerebras\n",
    "\n",
    "# os.environ[\"CEREBRAS_API_KEY\"] = \"csk-83pdj4yf9tnttnwcdhhpvr2mtvv8k94yvtdvt6jmv83myrvw\"\n",
    "\n",
    "client = Cerebras(\n",
    "  api_key=os.environ.get(\"csk-83pdj4yf9tnttnwcdhhpvr2mtvv8k94yvtdvt6jmv83myrvw\"),\n",
    ")\n",
    "\n",
    "chat_completion = client.chat.completions.create(\n",
    "  messages=[\n",
    "  {\n",
    "    \"role\": \"user\",\n",
    "   \"content\": \"\"\"You are a linguistic parser. Given the etymology description below, extract a clean etymology chain in graph format. Only include direct parent-child relationships, no inferred jumps or cross-edges. Return a JSON object with \\\\\\\"nodes\\\\\\\" and \\\\\\\"edges\\\\\\\" formatted for vis-network. \n",
    "\n",
    "Each edge should be assigned a relation type from the wiktionary template types: inh =inherited, der =derived, bor =borrowed, lbor =learned borrowing, slbor =semi-learned borrowing, obor =orthographic borrowing, ubor =unadapted borrowing, abor =adapted borrowing, cal/clq =calque, pcal/pclq =partial calque, sl =semantic loan, psm =phono-semantic matching, translit =transliteration loan, cog =cognate, dbt/doublet =doublet, uder =undefined derivation, abbrev =abbreviation, acronym =acronym, initialism =initialism, clipping =clipping, back-formation =back-formation, reduplication =reduplication, spoonerism =spoonerism, onomatopoeic =onomatopoeic, uncertain/unknown =uncertain or unknown.\n",
    "\n",
    "Example output:\n",
    "{{\n",
    "  \\\\\\\"nodes\\\\\\\": [\n",
    "    {{ \\\\\\\"id\\\\\\\": \\\\\\\"Proto-Indo-European:*h₂ébōl\\\\\\\",  \\\\\\\"label\\\\\\\": \\\\\\\"Proto-Indo-European: *h₂ébōl\\\\\\\" }},\n",
    "    {{ \\\\\\\"id\\\\\\\": \\\\\\\"Proto-Indo-European:*h₂ébl̥\\\\\\\",  \\\\\\\"label\\\\\\\": \\\\\\\"Proto-Indo-European: *h₂ébl̥\\\\\\\" }},\n",
    "    {{ \\\\\\\"id\\\\\\\": \\\\\\\"Proto-Germanic:*aplaz\\\\\\\",        \\\\\\\"label\\\\\\\": \\\\\\\"Proto-Germanic: *aplaz\\\\\\\" }},\n",
    "    {{ \\\\\\\"id\\\\\\\": \\\\\\\"Proto-West Germanic:*applu\\\\\\\",   \\\\\\\"label\\\\\\\": \\\\\\\"Proto-West Germanic: *applu\\\\\\\" }},\n",
    "    {{ \\\\\\\"id\\\\\\\": \\\\\\\"Old English:æppel\\\\\\\",            \\\\\\\"label\\\\\\\": \\\\\\\"Old English: æppel\\\\\\\" }},\n",
    "    {{ \\\\\\\"id\\\\\\\": \\\\\\\"Middle English:appel\\\\\\\",         \\\\\\\"label\\\\\\\": \\\\\\\"Middle English: appel\\\\\\\" }},\n",
    "    {{ \\\\\\\"id\\\\\\\": \\\\\\\"English:apple\\\\\\\",                \\\\\\\"label\\\\\\\": \\\\\\\"English: apple\\\\\\\" }}\n",
    "  ],\n",
    "\n",
    "  \\\\\\\"edges\\\\\\\": [\n",
    "    {{ \\\\\\\"from\\\\\\\": \\\\\\\"Proto-Indo-European:*h₂ébōl\\\\\\\", \\\\\\\"to\\\\\\\": \\\\\\\"Proto-Germanic:*aplaz\\\\\\\",        \\\\\\\"label\\\\\\\": \\\\\\\"inh\\\\\\\" }},\n",
    "    {{ \\\\\\\"from\\\\\\\": \\\\\\\"Proto-Germanic:*aplaz\\\\\\\",       \\\\\\\"to\\\\\\\": \\\\\\\"Proto-West Germanic:*applu\\\\\\\",   \\\\\\\"label\\\\\\\": \\\\\\\"inh\\\\\\\" }},\n",
    "    {{ \\\\\\\"from\\\\\\\": \\\\\\\"Proto-West Germanic:*applu\\\\\\\",  \\\\\\\"to\\\\\\\": \\\\\\\"Old English:æppel\\\\\\\",            \\\\\\\"label\\\\\\\": \\\\\\\"inh\\\\\\\" }},\n",
    "    {{ \\\\\\\"from\\\\\\\": \\\\\\\"Old English:æppel\\\\\\\",           \\\\\\\"to\\\\\\\": \\\\\\\"Middle English:appel\\\\\\\",         \\\\\\\"label\\\\\\\": \\\\\\\"inh\\\\\\\" }},\n",
    "    {{ \\\\\\\"from\\\\\\\": \\\\\\\"Middle English:appel\\\\\\\",        \\\\\\\"to\\\\\\\": \\\\\\\"English:apple\\\\\\\",               \\\\\\\"label\\\\\\\": \\\\\\\"inh\\\\\\\" }},\n",
    "\n",
    "    {{ \\\\\\\"from\\\\\\\": \\\\\\\"Proto-Indo-European:*h₂ébl̥\\\\\\\", \\\\\\\"to\\\\\\\": \\\\\\\"Proto-Germanic:*aplaz\\\\\\\",        \\\\\\\"label\\\\\\\": \\\\\\\"m\\\\\\\" }}\n",
    "  ]\n",
    "}}\n",
    "\n",
    "Query word: \\\\\\\"word\\\\\\\"\n",
    "Etymology text: \\\\\\\"From Middle English word, from Old English word, from Proto-West Germanic *word, from Proto-Germanic *wurdą, from Proto-Indo-European *wr̥dʰh₁om. Doublet of verb and verve; further related to vrata.\\\\\\\"\"\"\",\n",
    "   }\n",
    "],\n",
    "  model=\"llama-3.3-70b\",\n",
    ")\n",
    "\n",
    "print(chat_completion.choices[0].message.content)"
   ]
  },
  {
   "cell_type": "code",
   "execution_count": 17,
   "id": "bcdc39ad",
   "metadata": {},
   "outputs": [
    {
     "name": "stdout",
     "output_type": "stream",
     "text": [
      "Here is the extracted etymology chain in graph format:\n",
      "\n",
      "```\n",
      "{\n",
      "  \"nodes\": [\n",
      "    { \"id\": \"Proto-Indo-European:*wr̥dʰh₁om\",  \"label\": \"Proto-Indo-European: *wr̥dʰh₁om\" },\n",
      "    { \"id\": \"Proto-Germanic:*wurdą\",        \"label\": \"Proto-Germanic: *wurdą\" },\n",
      "    { \"id\": \"Proto-West Germanic:*word\",   \"label\": \"Proto-West Germanic: *word\" },\n",
      "    { \"id\": \"Old English:word\",            \"label\": \"Old English: word\" },\n",
      "    { \"id\": \"Middle English:word\",         \"label\": \"Middle English: word\" },\n",
      "    { \"id\": \"English:word\",                \"label\": \"English: word\" },\n",
      "    { \"id\": \"verb\",                        \"label\": \"verb\" },\n",
      "    { \"id\": \"verve\",                       \"label\": \"verve\" },\n",
      "    { \"id\": \"vrata\",                       \"label\": \"vrata\" }\n",
      "  ],\n",
      "\n",
      "  \"edges\": [\n",
      "    { \"from\": \"Proto-Indo-European:*wr̥dʰh₁om\", \"to\": \"Proto-Germanic:*wurdą\",        \"label\": \"inh\" },\n",
      "    { \"from\": \"Proto-Germanic:*wurdą\",       \"to\": \"Proto-West Germanic:*word\",   \"label\": \"inh\" },\n",
      "    { \"from\": \"Proto-West Germanic:*word\",  \"to\": \"Old English:word\",            \"label\": \"inh\" },\n",
      "    { \"from\": \"Old English:word\",           \"to\": \"Middle English:word\",         \"label\": \"inh\" },\n",
      "    { \"from\": \"Middle English:word\",        \"to\": \"English:word\",               \"label\": \"inh\" },\n",
      "    { \"from\": \"English:word\",               \"to\": \"verb\",                       \"label\": \"dbt\" },\n",
      "    { \"from\": \"English:word\",               \"to\": \"verve\",                      \"label\": \"dbt\" },\n",
      "    { \"from\": \"English:word\",               \"to\": \"vrata\",                      \"label\": \"cog\" }\n",
      "  ]\n",
      "}\n",
      "```\n",
      "\n",
      "Note: I used \"inh\" for inherited, \"dbt\" for doublet, and \"cog\" for cognate relationships. The relationships between \"word\" and \"verb\", \"verve\", and \"vrata\" are not explicitly stated as borrowed or derived, but based on the text, they appear to be doublets and cognates, respectively.\n"
     ]
    }
   ],
   "source": [
    "print(chat_completion.choices[0].message.content)"
   ]
  }
 ],
 "metadata": {
  "kernelspec": {
   "display_name": "Python 3",
   "language": "python",
   "name": "python3"
  },
  "language_info": {
   "codemirror_mode": {
    "name": "ipython",
    "version": 3
   },
   "file_extension": ".py",
   "mimetype": "text/x-python",
   "name": "python",
   "nbconvert_exporter": "python",
   "pygments_lexer": "ipython3",
   "version": "3.10.11"
  }
 },
 "nbformat": 4,
 "nbformat_minor": 5
}
